{
 "cells": [
  {
   "cell_type": "code",
   "execution_count": 1,
   "id": "b2df88f6",
   "metadata": {},
   "outputs": [],
   "source": [
    "import pandas as pd\n",
    "from sklearn.ensemble import IsolationForest\n"
   ]
  },
  {
   "cell_type": "code",
   "execution_count": 2,
   "id": "ce720aaa",
   "metadata": {},
   "outputs": [],
   "source": [
    "# Load dataset\n",
    "data = pd.read_csv('/Users/zahiramohammed/Desktop/DAPM_dataset_new.csv')"
   ]
  },
  {
   "cell_type": "code",
   "execution_count": 4,
   "id": "82ca80f7",
   "metadata": {},
   "outputs": [],
   "source": [
    "# numericals columns \n",
    "features = data[['age', 'bmi', 'blood_glucose_level']]"
   ]
  },
  {
   "cell_type": "code",
   "execution_count": 5,
   "id": "c7bca34b",
   "metadata": {},
   "outputs": [
    {
     "name": "stdout",
     "output_type": "stream",
     "text": [
      "     gender   age  hypertension  heart_disease  smoking_history    bmi  \\\n",
      "30        1  68.0             0              0               -1  46.58   \n",
      "33        1  80.0             0              1                0  30.38   \n",
      "35        1  37.0             0              0                0  46.07   \n",
      "50        1  80.0             1              0                0  27.32   \n",
      "58        1  20.0             0              0                2  40.01   \n",
      "64        0  74.0             0              0                1  35.63   \n",
      "82        0   6.0             0              0                0  15.69   \n",
      "83        1  80.0             0              0                0  31.87   \n",
      "100       1  34.0             0              0               -2  51.51   \n",
      "140       0  80.0             0              0               -2  27.32   \n",
      "172       1  50.0             0              0                1  28.62   \n",
      "193       1  55.0             1              0               -1  32.92   \n",
      "222       0  61.0             0              0                0  30.90   \n",
      "238       0  60.0             1              0                0  42.97   \n",
      "252       1  76.0             0              1               -2  25.68   \n",
      "258       0  68.0             0              0                2  29.13   \n",
      "279       1  49.0             0              0                0  58.50   \n",
      "307       0  34.0             0              0                0  36.07   \n",
      "360       0  15.0             0              0                0  20.76   \n",
      "379       0  80.0             0              0               -2  27.32   \n",
      "397       0  78.0             0              0                0  55.55   \n",
      "461       1   6.0             0              0                0  15.43   \n",
      "478       0   7.0             0              0               -1  15.20   \n",
      "488       0  61.0             0              0               -2  63.55   \n",
      "499       1  63.0             0              0               -1  47.73   \n",
      "\n",
      "     HbA1c_level  blood_glucose_level  diabetes  outlier  \n",
      "30           7.0                  130         1        1  \n",
      "33           6.1                  260         1        1  \n",
      "35           6.1                   90         0        1  \n",
      "50           6.5                  300         1        1  \n",
      "58           4.0                   90         0        1  \n",
      "64           5.8                  260         1        1  \n",
      "82           6.1                  220         1        1  \n",
      "83           6.5                  260         1        1  \n",
      "100          3.5                  155         0        1  \n",
      "140          6.0                  280         1        1  \n",
      "172          8.8                  280         1        1  \n",
      "193          8.8                  300         1        1  \n",
      "222          9.0                  280         1        1  \n",
      "238          8.2                  260         1        1  \n",
      "252          9.0                  260         1        1  \n",
      "258          7.5                  300         1        1  \n",
      "279          5.8                  155         0        1  \n",
      "307          7.0                  220         1        1  \n",
      "360          6.0                  260         1        1  \n",
      "379          6.6                  240         1        1  \n",
      "397          3.5                  145         0        1  \n",
      "461          5.8                  200         0        1  \n",
      "478          3.5                  200         0        1  \n",
      "488          4.0                  158         0        1  \n",
      "499          4.8                  130         0        1  \n"
     ]
    }
   ],
   "source": [
    "# Create Isolation Forest model\n",
    "iforest = IsolationForest(contamination=0.05)\n",
    "\n",
    "# Fit model on features\n",
    "iforest.fit(features)\n",
    "\n",
    "# Get outlier predictions\n",
    "outlier_preds = iforest.predict(features)\n",
    "\n",
    "# Flag outliers as -1, normal points as 1\n",
    "outlier_preds[outlier_preds == 1] = 0\n",
    "outlier_preds[outlier_preds == -1] = 1  \n",
    "\n",
    "# Add outlier label column \n",
    "data['outlier'] = outlier_preds\n",
    "\n",
    "# View outliers\n",
    "print(data[data['outlier'] == 1])"
   ]
  },
  {
   "cell_type": "code",
   "execution_count": 6,
   "id": "fa9c0722",
   "metadata": {},
   "outputs": [],
   "source": [
    "# Save updated dataframe with outlier labels\n",
    "data.to_csv('/Users/zahiramohammed/Desktop/DAPM_data_with_outliers.csv', index=False)"
   ]
  },
  {
   "cell_type": "code",
   "execution_count": 8,
   "id": "d1114850",
   "metadata": {},
   "outputs": [
    {
     "data": {
      "text/plain": [
       "outlier\n",
       "0    475\n",
       "1     25\n",
       "Name: count, dtype: int64"
      ]
     },
     "execution_count": 8,
     "metadata": {},
     "output_type": "execute_result"
    }
   ],
   "source": [
    "data[\"outlier\"].value_counts()"
   ]
  },
  {
   "cell_type": "code",
   "execution_count": null,
   "id": "83b938ee",
   "metadata": {},
   "outputs": [],
   "source": []
  }
 ],
 "metadata": {
  "kernelspec": {
   "display_name": "Python 3 (ipykernel)",
   "language": "python",
   "name": "python3"
  },
  "language_info": {
   "codemirror_mode": {
    "name": "ipython",
    "version": 3
   },
   "file_extension": ".py",
   "mimetype": "text/x-python",
   "name": "python",
   "nbconvert_exporter": "python",
   "pygments_lexer": "ipython3",
   "version": "3.11.5"
  }
 },
 "nbformat": 4,
 "nbformat_minor": 5
}
